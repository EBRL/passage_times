{
 "metadata": {
  "name": "how_to_use"
 },
 "nbformat": 3,
 "nbformat_minor": 0,
 "worksheets": [
  {
   "cells": [
    {
     "cell_type": "code",
     "collapsed": false,
     "input": [
      "from pprint import pprint\n",
      "from redcap import Project\n",
      "from secret import URL, TOKEN\n",
      "import passage_times\n",
      "\n",
      "passages = Project(URL, TOKEN)\n",
      "df = passages.export_records(format='df')"
     ],
     "language": "python",
     "metadata": {},
     "outputs": [],
     "prompt_number": 1
    },
    {
     "cell_type": "code",
     "collapsed": false,
     "input": [
      "ind = 42\n",
      "data = df.ix[ind]\n",
      "label = data['subject_id_number']\n",
      "group = int(data['passage_group'])\n",
      "version = int(data['version'])"
     ],
     "language": "python",
     "metadata": {},
     "outputs": [],
     "prompt_number": 2
    },
    {
     "cell_type": "code",
     "collapsed": false,
     "input": [
      "reload(passage_times)\n",
      "ptr = passage_times.PassageTimeRunner(label, group, data, version)\n",
      "ptr.process()"
     ],
     "language": "python",
     "metadata": {},
     "outputs": [],
     "prompt_number": 3
    },
    {
     "cell_type": "code",
     "collapsed": false,
     "input": [
      "pprint(ptr.id)\n",
      "pprint(ptr.results)"
     ],
     "language": "python",
     "metadata": {},
     "outputs": [
      {
       "output_type": "stream",
       "stream": "stdout",
       "text": [
        "'RC_003'\n",
        "{'baseline_mean_sec': '151.717',\n",
        " 'baseline_mean_stdev': '12.132',\n",
        " 'baseline_wpm_raw': '120.834',\n",
        " 'baseline_wpm_stdev': '9.329',\n",
        " 'bugs_syntax_sec': '163.140',\n",
        " 'bugs_syntax_wpm': '116.219',\n",
        " 'cohesion': '118.382',\n",
        " 'crocs_far_sec': '145.100',\n",
        " 'crocs_far_wpm': '123.639',\n",
        " 'decode': '114.738',\n",
        " 'deserts_baseline_sec': '143.070',\n",
        " 'deserts_baseline_wpm': '127.071',\n",
        " 'group': '1',\n",
        " 'hab_cohesion_sec': '153.570',\n",
        " 'hab_cohesion_wpm': '118.382',\n",
        " 'igloos_baseline_sec': '164.380',\n",
        " 'igloos_baseline_wpm': '112.787',\n",
        " 'moths_baseline_sec': '162.080',\n",
        " 'moths_baseline_wpm': '111.426',\n",
        " 'must_baseline_sec': '163.240',\n",
        " 'must_baseline_wpm': '112.105',\n",
        " 'octopuses_baseline_sec': '132.750',\n",
        " 'octopuses_baseline_wpm': '136.045',\n",
        " 'sap_vocab_sec': '153.370',\n",
        " 'sap_vocab_wpm': '120.493',\n",
        " 'scabs_near_sec': '148.180',\n",
        " 'scabs_near_wpm': '123.903',\n",
        " 'syntax': '116.219',\n",
        " 'toads_baseline_sec': '144.780',\n",
        " 'toads_baseline_wpm': '125.570',\n",
        " 'vocab': '120.493',\n",
        " 'wbf_decode_sec': '160.540',\n",
        " 'wbf_decode_wpm': '114.738'}\n"
       ]
      }
     ],
     "prompt_number": 4
    },
    {
     "cell_type": "markdown",
     "metadata": {},
     "source": [
      "**At this point, `ptr.results` can be imported straight to ReadingComp (accounting for participant_id :)**"
     ]
    }
   ],
   "metadata": {}
  }
 ]
}